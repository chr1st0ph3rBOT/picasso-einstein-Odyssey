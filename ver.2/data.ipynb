{
 "cells": [
  {
   "cell_type": "code",
   "execution_count": null,
   "id": "33971237",
   "metadata": {},
   "outputs": [],
   "source": [
    "from datasets import load_dataset\n",
    "\n",
    "# 'wikitext-2-raw-v1'은 적당한 크기의 버전으로, 테스트하기에 좋습니다.\n",
    "raw_dataset = load_dataset('wikitext', 'wikitext-2-raw-v1')\n",
    "\n",
    "# 다운로드된 데이터셋 구조 확인\n",
    "print(raw_dataset)\n",
    "# 출력 결과:\n",
    "# DatasetDict({\n",
    "#     train: Dataset({\n",
    "#         features: ['text'],\n",
    "#         num_rows: 36718\n",
    "#     })\n",
    "#     validation: Dataset({\n",
    "#         features: ['text'],\n",
    "#         num_rows: 360\n",
    "#     })\n",
    "#     test: Dataset({\n",
    "#         features: ['text'],\n",
    "#         num_rows: 4358\n",
    "#     })\n",
    "# })"
   ]
  },
  {
   "cell_type": "code",
   "execution_count": null,
   "id": "028c57cb",
   "metadata": {},
   "outputs": [],
   "source": [
    "from transformers import BertTokenizer\n",
    "\n",
    "# 모델과 동일한 토크나이저 준비\n",
    "tokenizer = BertTokenizer.from_pretrained('bert-base-uncased')\n",
    "\n",
    "# 전처리 함수 정의\n",
    "def tokenize_function(examples):\n",
    "    # 텍스트를 토큰 ID, 어텐션 마스크 등으로 변환\n",
    "    return tokenizer(\n",
    "        examples[\"text\"], \n",
    "        padding=\"max_length\", # 문장 길이를 맞춰주기 위해 패딩\n",
    "        truncation=True,      # 최대 길이를 넘는 부분은 잘라냄\n",
    "        max_length=128        # 문장의 최대 길이를 128 토큰으로 설정\n",
    "    )\n",
    "\n",
    "# .map()을 사용해 전체 데이터셋에 함수를 적용\n",
    "print(\"토크나이징을 시작합니다. (데이터 양에 따라 몇 분 정도 걸릴 수 있습니다)...\")\n",
    "tokenized_dataset = raw_dataset.map(tokenize_function, batched=True)\n",
    "print(\"✅ 토크나이징 완료!\")\n",
    "\n",
    "# 전처리 후 결과 확인\n",
    "print(\"\\n--- 전처리 후 데이터셋 ---\")\n",
    "print(tokenized_dataset)"
   ]
  }
 ],
 "metadata": {
  "kernelspec": {
   "display_name": "Python 3",
   "language": "python",
   "name": "python3"
  },
  "language_info": {
   "codemirror_mode": {
    "name": "ipython",
    "version": 3
   },
   "file_extension": ".py",
   "mimetype": "text/x-python",
   "name": "python",
   "nbconvert_exporter": "python",
   "pygments_lexer": "ipython3",
   "version": "3.13.5"
  }
 },
 "nbformat": 4,
 "nbformat_minor": 5
}
